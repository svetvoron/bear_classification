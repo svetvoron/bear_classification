{
  "nbformat": 4,
  "nbformat_minor": 0,
  "metadata": {
    "jupytext": {
      "split_at_heading": true
    },
    "kernelspec": {
      "display_name": "Python 3",
      "language": "python",
      "name": "python3"
    },
    "colab": {
      "name": "vidgets_02_production.ipynb\"\"",
      "provenance": [],
      "collapsed_sections": []
    },
    "accelerator": "GPU",
    "widgets": {
      "application/vnd.jupyter.widget-state+json": {
        "120533bd4cd94a55985538421bc13ad3": {
          "model_module": "@jupyter-widgets/controls",
          "model_name": "VBoxModel",
          "model_module_version": "1.5.0",
          "state": {
            "_view_name": "VBoxView",
            "_dom_classes": [],
            "_model_name": "VBoxModel",
            "_view_module": "@jupyter-widgets/controls",
            "_model_module_version": "1.5.0",
            "_view_count": null,
            "_view_module_version": "1.5.0",
            "box_style": "",
            "layout": "IPY_MODEL_806c9031f56749ed9914d05e5d46a043",
            "_model_module": "@jupyter-widgets/controls",
            "children": [
              "IPY_MODEL_d01dea1c44824973b99fa05f0156dd48",
              "IPY_MODEL_1ab2080799e44ea6a93bd84259e45a26",
              "IPY_MODEL_f6d858a2cd684891a8068d37a0ef4614",
              "IPY_MODEL_7a8672daac114084b9e88957e4d79e57",
              "IPY_MODEL_82ede78208bb453da6c5cbb4e7f2ea98"
            ]
          }
        },
        "806c9031f56749ed9914d05e5d46a043": {
          "model_module": "@jupyter-widgets/base",
          "model_name": "LayoutModel",
          "model_module_version": "1.2.0",
          "state": {
            "_view_name": "LayoutView",
            "grid_template_rows": null,
            "right": null,
            "justify_content": null,
            "_view_module": "@jupyter-widgets/base",
            "overflow": null,
            "_model_module_version": "1.2.0",
            "_view_count": null,
            "flex_flow": null,
            "width": null,
            "min_width": null,
            "border": null,
            "align_items": null,
            "bottom": null,
            "_model_module": "@jupyter-widgets/base",
            "top": null,
            "grid_column": null,
            "overflow_y": null,
            "overflow_x": null,
            "grid_auto_flow": null,
            "grid_area": null,
            "grid_template_columns": null,
            "flex": null,
            "_model_name": "LayoutModel",
            "justify_items": null,
            "grid_row": null,
            "max_height": null,
            "align_content": null,
            "visibility": null,
            "align_self": null,
            "height": null,
            "min_height": null,
            "padding": null,
            "grid_auto_rows": null,
            "grid_gap": null,
            "max_width": null,
            "order": null,
            "_view_module_version": "1.2.0",
            "grid_template_areas": null,
            "object_position": null,
            "object_fit": null,
            "grid_auto_columns": null,
            "margin": null,
            "display": null,
            "left": null
          }
        },
        "d01dea1c44824973b99fa05f0156dd48": {
          "model_module": "@jupyter-widgets/controls",
          "model_name": "LabelModel",
          "model_module_version": "1.5.0",
          "state": {
            "_view_name": "LabelView",
            "style": "IPY_MODEL_1eaddf0bfa9349509c6eca2935100baf",
            "_dom_classes": [],
            "description": "",
            "_model_name": "LabelModel",
            "placeholder": "​",
            "_view_module": "@jupyter-widgets/controls",
            "_model_module_version": "1.5.0",
            "value": "Select your bear!",
            "_view_count": null,
            "_view_module_version": "1.5.0",
            "description_tooltip": null,
            "_model_module": "@jupyter-widgets/controls",
            "layout": "IPY_MODEL_0ed36855a54646ffa5ff45ae70117338"
          }
        },
        "1ab2080799e44ea6a93bd84259e45a26": {
          "model_module": "@jupyter-widgets/controls",
          "model_name": "FileUploadModel",
          "model_module_version": "1.5.0",
          "state": {
            "_view_name": "FileUploadView",
            "_counter": 1,
            "style": "IPY_MODEL_dbf0f3c718104c60bd014625a288c69d",
            "_dom_classes": [],
            "description": "Upload",
            "multiple": false,
            "_model_name": "FileUploadModel",
            "data": [
              null
            ],
            "button_style": "",
            "_view_module": "@jupyter-widgets/controls",
            "_model_module_version": "1.5.0",
            "accept": "",
            "_view_count": null,
            "disabled": false,
            "_view_module_version": "1.5.0",
            "error": "",
            "description_tooltip": null,
            "metadata": [
              {
                "name": "grizzly.jpg",
                "type": "image/jpeg",
                "size": 697626,
                "lastModified": 1637421705218
              }
            ],
            "_model_module": "@jupyter-widgets/controls",
            "layout": "IPY_MODEL_a82044cb46e34309b8f1d13e192e9cf6",
            "icon": "upload"
          }
        },
        "f6d858a2cd684891a8068d37a0ef4614": {
          "model_module": "@jupyter-widgets/controls",
          "model_name": "ButtonModel",
          "model_module_version": "1.5.0",
          "state": {
            "_view_name": "ButtonView",
            "style": "IPY_MODEL_6fd726409d844db1a6e32c13282bd960",
            "_dom_classes": [],
            "description": "Classify",
            "_model_name": "ButtonModel",
            "button_style": "",
            "_view_module": "@jupyter-widgets/controls",
            "_model_module_version": "1.5.0",
            "tooltip": "",
            "_view_count": null,
            "disabled": false,
            "_view_module_version": "1.5.0",
            "layout": "IPY_MODEL_68c5251aa9d54e9ea18285d6f14f8b3d",
            "_model_module": "@jupyter-widgets/controls",
            "icon": ""
          }
        },
        "7a8672daac114084b9e88957e4d79e57": {
          "model_module": "@jupyter-widgets/output",
          "model_name": "OutputModel",
          "model_module_version": "1.0.0",
          "state": {
            "_view_name": "OutputView",
            "msg_id": "",
            "_dom_classes": [],
            "_model_name": "OutputModel",
            "outputs": [
              {
                "output_type": "display_data",
                "data": {
                  "image/png": "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\n",
                  "text/plain": "<PIL.Image.Image image mode=RGB size=108x128 at 0x7FC8EFF2DAD0>"
                },
                "metadata": {}
              }
            ],
            "_view_module": "@jupyter-widgets/output",
            "_model_module_version": "1.0.0",
            "_view_count": null,
            "_view_module_version": "1.0.0",
            "layout": "IPY_MODEL_8053ba4575b345a9a091f02f82512d8a",
            "_model_module": "@jupyter-widgets/output"
          }
        },
        "82ede78208bb453da6c5cbb4e7f2ea98": {
          "model_module": "@jupyter-widgets/controls",
          "model_name": "LabelModel",
          "model_module_version": "1.5.0",
          "state": {
            "_view_name": "LabelView",
            "style": "IPY_MODEL_f2d77e9c08bd40a7bda2c1266cec1b17",
            "_dom_classes": [],
            "description": "",
            "_model_name": "LabelModel",
            "placeholder": "​",
            "_view_module": "@jupyter-widgets/controls",
            "_model_module_version": "1.5.0",
            "value": "Prediction: grizzly; Probability: 0.9997",
            "_view_count": null,
            "_view_module_version": "1.5.0",
            "description_tooltip": null,
            "_model_module": "@jupyter-widgets/controls",
            "layout": "IPY_MODEL_977d63a17c9643fc8de52263bf3fcd7c"
          }
        },
        "1eaddf0bfa9349509c6eca2935100baf": {
          "model_module": "@jupyter-widgets/controls",
          "model_name": "DescriptionStyleModel",
          "model_module_version": "1.5.0",
          "state": {
            "_view_name": "StyleView",
            "_model_name": "DescriptionStyleModel",
            "description_width": "",
            "_view_module": "@jupyter-widgets/base",
            "_model_module_version": "1.5.0",
            "_view_count": null,
            "_view_module_version": "1.2.0",
            "_model_module": "@jupyter-widgets/controls"
          }
        },
        "0ed36855a54646ffa5ff45ae70117338": {
          "model_module": "@jupyter-widgets/base",
          "model_name": "LayoutModel",
          "model_module_version": "1.2.0",
          "state": {
            "_view_name": "LayoutView",
            "grid_template_rows": null,
            "right": null,
            "justify_content": null,
            "_view_module": "@jupyter-widgets/base",
            "overflow": null,
            "_model_module_version": "1.2.0",
            "_view_count": null,
            "flex_flow": null,
            "width": null,
            "min_width": null,
            "border": null,
            "align_items": null,
            "bottom": null,
            "_model_module": "@jupyter-widgets/base",
            "top": null,
            "grid_column": null,
            "overflow_y": null,
            "overflow_x": null,
            "grid_auto_flow": null,
            "grid_area": null,
            "grid_template_columns": null,
            "flex": null,
            "_model_name": "LayoutModel",
            "justify_items": null,
            "grid_row": null,
            "max_height": null,
            "align_content": null,
            "visibility": null,
            "align_self": null,
            "height": null,
            "min_height": null,
            "padding": null,
            "grid_auto_rows": null,
            "grid_gap": null,
            "max_width": null,
            "order": null,
            "_view_module_version": "1.2.0",
            "grid_template_areas": null,
            "object_position": null,
            "object_fit": null,
            "grid_auto_columns": null,
            "margin": null,
            "display": null,
            "left": null
          }
        },
        "dbf0f3c718104c60bd014625a288c69d": {
          "model_module": "@jupyter-widgets/controls",
          "model_name": "ButtonStyleModel",
          "model_module_version": "1.5.0",
          "state": {
            "_view_name": "StyleView",
            "_model_name": "ButtonStyleModel",
            "_view_module": "@jupyter-widgets/base",
            "_model_module_version": "1.5.0",
            "_view_count": null,
            "button_color": null,
            "font_weight": "",
            "_view_module_version": "1.2.0",
            "_model_module": "@jupyter-widgets/controls"
          }
        },
        "a82044cb46e34309b8f1d13e192e9cf6": {
          "model_module": "@jupyter-widgets/base",
          "model_name": "LayoutModel",
          "model_module_version": "1.2.0",
          "state": {
            "_view_name": "LayoutView",
            "grid_template_rows": null,
            "right": null,
            "justify_content": null,
            "_view_module": "@jupyter-widgets/base",
            "overflow": null,
            "_model_module_version": "1.2.0",
            "_view_count": null,
            "flex_flow": null,
            "width": null,
            "min_width": null,
            "border": null,
            "align_items": null,
            "bottom": null,
            "_model_module": "@jupyter-widgets/base",
            "top": null,
            "grid_column": null,
            "overflow_y": null,
            "overflow_x": null,
            "grid_auto_flow": null,
            "grid_area": null,
            "grid_template_columns": null,
            "flex": null,
            "_model_name": "LayoutModel",
            "justify_items": null,
            "grid_row": null,
            "max_height": null,
            "align_content": null,
            "visibility": null,
            "align_self": null,
            "height": null,
            "min_height": null,
            "padding": null,
            "grid_auto_rows": null,
            "grid_gap": null,
            "max_width": null,
            "order": null,
            "_view_module_version": "1.2.0",
            "grid_template_areas": null,
            "object_position": null,
            "object_fit": null,
            "grid_auto_columns": null,
            "margin": null,
            "display": null,
            "left": null
          }
        },
        "6fd726409d844db1a6e32c13282bd960": {
          "model_module": "@jupyter-widgets/controls",
          "model_name": "ButtonStyleModel",
          "model_module_version": "1.5.0",
          "state": {
            "_view_name": "StyleView",
            "_model_name": "ButtonStyleModel",
            "_view_module": "@jupyter-widgets/base",
            "_model_module_version": "1.5.0",
            "_view_count": null,
            "button_color": null,
            "font_weight": "",
            "_view_module_version": "1.2.0",
            "_model_module": "@jupyter-widgets/controls"
          }
        },
        "68c5251aa9d54e9ea18285d6f14f8b3d": {
          "model_module": "@jupyter-widgets/base",
          "model_name": "LayoutModel",
          "model_module_version": "1.2.0",
          "state": {
            "_view_name": "LayoutView",
            "grid_template_rows": null,
            "right": null,
            "justify_content": null,
            "_view_module": "@jupyter-widgets/base",
            "overflow": null,
            "_model_module_version": "1.2.0",
            "_view_count": null,
            "flex_flow": null,
            "width": null,
            "min_width": null,
            "border": null,
            "align_items": null,
            "bottom": null,
            "_model_module": "@jupyter-widgets/base",
            "top": null,
            "grid_column": null,
            "overflow_y": null,
            "overflow_x": null,
            "grid_auto_flow": null,
            "grid_area": null,
            "grid_template_columns": null,
            "flex": null,
            "_model_name": "LayoutModel",
            "justify_items": null,
            "grid_row": null,
            "max_height": null,
            "align_content": null,
            "visibility": null,
            "align_self": null,
            "height": null,
            "min_height": null,
            "padding": null,
            "grid_auto_rows": null,
            "grid_gap": null,
            "max_width": null,
            "order": null,
            "_view_module_version": "1.2.0",
            "grid_template_areas": null,
            "object_position": null,
            "object_fit": null,
            "grid_auto_columns": null,
            "margin": null,
            "display": null,
            "left": null
          }
        },
        "f2d77e9c08bd40a7bda2c1266cec1b17": {
          "model_module": "@jupyter-widgets/controls",
          "model_name": "DescriptionStyleModel",
          "model_module_version": "1.5.0",
          "state": {
            "_view_name": "StyleView",
            "_model_name": "DescriptionStyleModel",
            "description_width": "",
            "_view_module": "@jupyter-widgets/base",
            "_model_module_version": "1.5.0",
            "_view_count": null,
            "_view_module_version": "1.2.0",
            "_model_module": "@jupyter-widgets/controls"
          }
        },
        "977d63a17c9643fc8de52263bf3fcd7c": {
          "model_module": "@jupyter-widgets/base",
          "model_name": "LayoutModel",
          "model_module_version": "1.2.0",
          "state": {
            "_view_name": "LayoutView",
            "grid_template_rows": null,
            "right": null,
            "justify_content": null,
            "_view_module": "@jupyter-widgets/base",
            "overflow": null,
            "_model_module_version": "1.2.0",
            "_view_count": null,
            "flex_flow": null,
            "width": null,
            "min_width": null,
            "border": null,
            "align_items": null,
            "bottom": null,
            "_model_module": "@jupyter-widgets/base",
            "top": null,
            "grid_column": null,
            "overflow_y": null,
            "overflow_x": null,
            "grid_auto_flow": null,
            "grid_area": null,
            "grid_template_columns": null,
            "flex": null,
            "_model_name": "LayoutModel",
            "justify_items": null,
            "grid_row": null,
            "max_height": null,
            "align_content": null,
            "visibility": null,
            "align_self": null,
            "height": null,
            "min_height": null,
            "padding": null,
            "grid_auto_rows": null,
            "grid_gap": null,
            "max_width": null,
            "order": null,
            "_view_module_version": "1.2.0",
            "grid_template_areas": null,
            "object_position": null,
            "object_fit": null,
            "grid_auto_columns": null,
            "margin": null,
            "display": null,
            "left": null
          }
        },
        "8053ba4575b345a9a091f02f82512d8a": {
          "model_module": "@jupyter-widgets/base",
          "model_name": "LayoutModel",
          "model_module_version": "1.2.0",
          "state": {
            "_view_name": "LayoutView",
            "grid_template_rows": null,
            "right": null,
            "justify_content": null,
            "_view_module": "@jupyter-widgets/base",
            "overflow": null,
            "_model_module_version": "1.2.0",
            "_view_count": null,
            "flex_flow": null,
            "width": null,
            "min_width": null,
            "border": null,
            "align_items": null,
            "bottom": null,
            "_model_module": "@jupyter-widgets/base",
            "top": null,
            "grid_column": null,
            "overflow_y": null,
            "overflow_x": null,
            "grid_auto_flow": null,
            "grid_area": null,
            "grid_template_columns": null,
            "flex": null,
            "_model_name": "LayoutModel",
            "justify_items": null,
            "grid_row": null,
            "max_height": null,
            "align_content": null,
            "visibility": null,
            "align_self": null,
            "height": null,
            "min_height": null,
            "padding": null,
            "grid_auto_rows": null,
            "grid_gap": null,
            "max_width": null,
            "order": null,
            "_view_module_version": "1.2.0",
            "grid_template_areas": null,
            "object_position": null,
            "object_fit": null,
            "grid_auto_columns": null,
            "margin": null,
            "display": null,
            "left": null
          }
        }
      }
    }
  },
  "cells": [
    {
      "cell_type": "code",
      "metadata": {
        "id": "pT-b_G4gM3W8",
        "colab": {
          "base_uri": "https://localhost:8080/"
        },
        "outputId": "38901b24-5b5d-4534-a043-180079ce1001"
      },
      "source": [
        "#hide\n",
        "#!pip install voila\n",
        "#!jupyter serverextension enable --sys-prefix voila "
      ],
      "execution_count": 1,
      "outputs": [
        {
          "output_type": "stream",
          "name": "stdout",
          "text": [
            "Requirement already satisfied: voila in /usr/local/lib/python3.7/dist-packages (0.2.16)\n",
            "Requirement already satisfied: nbclient<0.6,>=0.4.0 in /usr/local/lib/python3.7/dist-packages (from voila) (0.5.8)\n",
            "Requirement already satisfied: nbconvert<7,>=6.0.0 in /usr/local/lib/python3.7/dist-packages (from voila) (6.3.0)\n",
            "Requirement already satisfied: jupyter-server<2.0.0,>=0.3.0 in /usr/local/lib/python3.7/dist-packages (from voila) (1.11.2)\n",
            "Requirement already satisfied: jupyter-client<7,>=6.1.3 in /usr/local/lib/python3.7/dist-packages (from voila) (6.1.12)\n",
            "Requirement already satisfied: tornado>=4.1 in /usr/local/lib/python3.7/dist-packages (from jupyter-client<7,>=6.1.3->voila) (6.1)\n",
            "Requirement already satisfied: traitlets in /usr/local/lib/python3.7/dist-packages (from jupyter-client<7,>=6.1.3->voila) (5.1.1)\n",
            "Requirement already satisfied: pyzmq>=13 in /usr/local/lib/python3.7/dist-packages (from jupyter-client<7,>=6.1.3->voila) (22.3.0)\n",
            "Requirement already satisfied: python-dateutil>=2.1 in /usr/local/lib/python3.7/dist-packages (from jupyter-client<7,>=6.1.3->voila) (2.8.2)\n",
            "Requirement already satisfied: jupyter-core>=4.6.0 in /usr/local/lib/python3.7/dist-packages (from jupyter-client<7,>=6.1.3->voila) (4.9.1)\n",
            "Requirement already satisfied: nbformat in /usr/local/lib/python3.7/dist-packages (from jupyter-server<2.0.0,>=0.3.0->voila) (5.1.3)\n",
            "Requirement already satisfied: websocket-client in /usr/local/lib/python3.7/dist-packages (from jupyter-server<2.0.0,>=0.3.0->voila) (1.2.1)\n",
            "Requirement already satisfied: argon2-cffi in /usr/local/lib/python3.7/dist-packages (from jupyter-server<2.0.0,>=0.3.0->voila) (21.1.0)\n",
            "Requirement already satisfied: Send2Trash in /usr/local/lib/python3.7/dist-packages (from jupyter-server<2.0.0,>=0.3.0->voila) (1.8.0)\n",
            "Requirement already satisfied: ipython-genutils in /usr/local/lib/python3.7/dist-packages (from jupyter-server<2.0.0,>=0.3.0->voila) (0.2.0)\n",
            "Requirement already satisfied: prometheus-client in /usr/local/lib/python3.7/dist-packages (from jupyter-server<2.0.0,>=0.3.0->voila) (0.12.0)\n",
            "Requirement already satisfied: terminado>=0.8.3 in /usr/local/lib/python3.7/dist-packages (from jupyter-server<2.0.0,>=0.3.0->voila) (0.12.1)\n",
            "Requirement already satisfied: jinja2 in /usr/local/lib/python3.7/dist-packages (from jupyter-server<2.0.0,>=0.3.0->voila) (2.11.3)\n",
            "Requirement already satisfied: anyio<4,>=3.1.0 in /usr/local/lib/python3.7/dist-packages (from jupyter-server<2.0.0,>=0.3.0->voila) (3.3.4)\n",
            "Requirement already satisfied: sniffio>=1.1 in /usr/local/lib/python3.7/dist-packages (from anyio<4,>=3.1.0->jupyter-server<2.0.0,>=0.3.0->voila) (1.2.0)\n",
            "Requirement already satisfied: typing-extensions in /usr/local/lib/python3.7/dist-packages (from anyio<4,>=3.1.0->jupyter-server<2.0.0,>=0.3.0->voila) (3.10.0.2)\n",
            "Requirement already satisfied: idna>=2.8 in /usr/local/lib/python3.7/dist-packages (from anyio<4,>=3.1.0->jupyter-server<2.0.0,>=0.3.0->voila) (2.10)\n",
            "Requirement already satisfied: nest-asyncio in /usr/local/lib/python3.7/dist-packages (from nbclient<0.6,>=0.4.0->voila) (1.5.1)\n",
            "Requirement already satisfied: testpath in /usr/local/lib/python3.7/dist-packages (from nbconvert<7,>=6.0.0->voila) (0.5.0)\n",
            "Requirement already satisfied: mistune<2,>=0.8.1 in /usr/local/lib/python3.7/dist-packages (from nbconvert<7,>=6.0.0->voila) (0.8.4)\n",
            "Requirement already satisfied: defusedxml in /usr/local/lib/python3.7/dist-packages (from nbconvert<7,>=6.0.0->voila) (0.7.1)\n",
            "Requirement already satisfied: pandocfilters>=1.4.1 in /usr/local/lib/python3.7/dist-packages (from nbconvert<7,>=6.0.0->voila) (1.5.0)\n",
            "Requirement already satisfied: bleach in /usr/local/lib/python3.7/dist-packages (from nbconvert<7,>=6.0.0->voila) (4.1.0)\n",
            "Requirement already satisfied: pygments>=2.4.1 in /usr/local/lib/python3.7/dist-packages (from nbconvert<7,>=6.0.0->voila) (2.6.1)\n",
            "Requirement already satisfied: entrypoints>=0.2.2 in /usr/local/lib/python3.7/dist-packages (from nbconvert<7,>=6.0.0->voila) (0.3)\n",
            "Requirement already satisfied: jupyterlab-pygments in /usr/local/lib/python3.7/dist-packages (from nbconvert<7,>=6.0.0->voila) (0.1.2)\n",
            "Requirement already satisfied: MarkupSafe>=0.23 in /usr/local/lib/python3.7/dist-packages (from jinja2->jupyter-server<2.0.0,>=0.3.0->voila) (2.0.1)\n",
            "Requirement already satisfied: jsonschema!=2.5.0,>=2.4 in /usr/local/lib/python3.7/dist-packages (from nbformat->jupyter-server<2.0.0,>=0.3.0->voila) (2.6.0)\n",
            "Requirement already satisfied: six>=1.5 in /usr/local/lib/python3.7/dist-packages (from python-dateutil>=2.1->jupyter-client<7,>=6.1.3->voila) (1.15.0)\n",
            "Requirement already satisfied: ptyprocess in /usr/local/lib/python3.7/dist-packages (from terminado>=0.8.3->jupyter-server<2.0.0,>=0.3.0->voila) (0.7.0)\n",
            "Requirement already satisfied: cffi>=1.0.0 in /usr/local/lib/python3.7/dist-packages (from argon2-cffi->jupyter-server<2.0.0,>=0.3.0->voila) (1.15.0)\n",
            "Requirement already satisfied: pycparser in /usr/local/lib/python3.7/dist-packages (from cffi>=1.0.0->argon2-cffi->jupyter-server<2.0.0,>=0.3.0->voila) (2.21)\n",
            "Requirement already satisfied: packaging in /usr/local/lib/python3.7/dist-packages (from bleach->nbconvert<7,>=6.0.0->voila) (21.3)\n",
            "Requirement already satisfied: webencodings in /usr/local/lib/python3.7/dist-packages (from bleach->nbconvert<7,>=6.0.0->voila) (0.5.1)\n",
            "Requirement already satisfied: pyparsing!=3.0.5,>=2.0.2 in /usr/local/lib/python3.7/dist-packages (from packaging->bleach->nbconvert<7,>=6.0.0->voila) (3.0.6)\n",
            "Enabling: voila\n",
            "- Writing config: /usr/etc/jupyter\n",
            "    - Validating...\n",
            "Error loading server extension voila\n",
            "     \u001b[31m X\u001b[0m is voila importable?\n"
          ]
        }
      ]
    },
    {
      "cell_type": "code",
      "metadata": {
        "id": "KrHv0EM6nqiT"
      },
      "source": [
        "from fastai.vision.all import *\n",
        "from fastai.vision.widgets import *"
      ],
      "execution_count": null,
      "outputs": []
    },
    {
      "cell_type": "code",
      "metadata": {
        "id": "cxKAxmBiHgJc"
      },
      "source": [
        "path = Path()\n",
        "learn_inf = load_learner(path/'export.pkl', cpu=True)\n",
        "btn_upload = widgets.FileUpload()\n",
        "out_pl = widgets.Output()\n",
        "lbl_pred = widgets.Label()"
      ],
      "execution_count": null,
      "outputs": []
    },
    {
      "cell_type": "code",
      "metadata": {
        "id": "F2lPnWqiM3W7"
      },
      "source": [
        "def on_click_classify(change):\n",
        "    img = PILImage.create(btn_upload.data[-1])\n",
        "    out_pl.clear_output()\n",
        "    with out_pl: display(img.to_thumb(128,128))\n",
        "    pred,pred_idx,probs = learn_inf.predict(img)\n",
        "    lbl_pred.value = f'Prediction: {pred}; Probability: {probs[pred_idx]:.04f}'\n",
        "\n",
        "btn_run.on_click(on_click_classify)"
      ],
      "execution_count": null,
      "outputs": []
    },
    {
      "cell_type": "code",
      "metadata": {
        "id": "fWUvYBGdM3W7"
      },
      "source": [
        "#hide\n",
        "#Putting back btn_upload to a widget for next cell\n",
        "btn_upload = widgets.FileUpload()"
      ],
      "execution_count": null,
      "outputs": []
    },
    {
      "cell_type": "code",
      "metadata": {
        "id": "UNlsXw9-M3W8",
        "colab": {
          "base_uri": "https://localhost:8080/",
          "height": 401,
          "referenced_widgets": [
            "120533bd4cd94a55985538421bc13ad3",
            "806c9031f56749ed9914d05e5d46a043",
            "d01dea1c44824973b99fa05f0156dd48",
            "1ab2080799e44ea6a93bd84259e45a26",
            "f6d858a2cd684891a8068d37a0ef4614",
            "7a8672daac114084b9e88957e4d79e57",
            "82ede78208bb453da6c5cbb4e7f2ea98",
            "1eaddf0bfa9349509c6eca2935100baf",
            "0ed36855a54646ffa5ff45ae70117338",
            "dbf0f3c718104c60bd014625a288c69d",
            "a82044cb46e34309b8f1d13e192e9cf6",
            "6fd726409d844db1a6e32c13282bd960",
            "68c5251aa9d54e9ea18285d6f14f8b3d",
            "f2d77e9c08bd40a7bda2c1266cec1b17",
            "977d63a17c9643fc8de52263bf3fcd7c",
            "8053ba4575b345a9a091f02f82512d8a"
          ]
        },
        "outputId": "1317a7da-8522-49d6-87a9-cb8b02686b25"
      },
      "source": [
        "VBox([widgets.Label('Select your bear!'), \n",
        "      btn_upload, btn_run, out_pl, lbl_pred])"
      ],
      "execution_count": null,
      "outputs": [
        {
          "output_type": "display_data",
          "data": {
            "image/png": "[encoded data removed]",
            "text/plain": [
              "<PIL.Image.Image image mode=RGB size=108x128 at 0x7FC8EFC781D0>"
            ]
          },
          "metadata": {}
        },
        {
          "output_type": "display_data",
          "data": {
            "text/html": [
              ""
            ],
            "text/plain": [
              "<IPython.core.display.HTML object>"
            ]
          },
          "metadata": {}
        },
        {
          "output_type": "display_data",
          "data": {
            "application/vnd.jupyter.widget-view+json": {
              "model_id": "120533bd4cd94a55985538421bc13ad3",
              "version_minor": 0,
              "version_major": 2
            },
            "text/plain": [
              "VBox(children=(Label(value='Select your bear!'), FileUpload(value={'grizzly.jpg': {'metadata': {'lastModified'…"
            ]
          },
          "metadata": {}
        }
      ]
    },
    {
      "cell_type": "code",
      "metadata": {
        "id": "I2-6cpYNM3W_"
      },
      "source": [
        ""
      ],
      "execution_count": null,
      "outputs": []
    }
  ]
}